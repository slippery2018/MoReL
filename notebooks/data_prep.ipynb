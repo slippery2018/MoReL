{
 "cells": [
  {
   "cell_type": "code",
   "execution_count": 1,
   "metadata": {
    "collapsed": true
   },
   "outputs": [],
   "source": [
    "import os\n",
    "\n",
    "# Local and FTP addresses \n",
    "DATA_ROOT = './data/'\n",
    "RAW_DATA_PATH = './data/raw/'\n",
    "PROCESSED_DATA_PATH = './data/processed/'\n",
    "\n",
    "PCBA_CID_FILE_NAME = 'Cid2BioactivityLink'\n",
    "CID_INCHI_FILE_NAME = 'CID-InChI-Key'\n",
    "\n",
    "PCBA_CID_FTP_ADDRESS = 'ftp://ftp.ncbi.nlm.nih.gov/pubchem/Bioassay/Extras/%s.gz' % PCBA_CID_FILE_NAME\n",
    "CID_INCHI_FTP_ADDRESS = 'ftp://ftp.ncbi.nlm.nih.gov/pubchem/Compound/Extras/%s.gz' % CID_INCHI_FILE_NAME\n",
    "\n",
    "PCBA_CID_FILE_PATH = os.path.join(RAW_DATA_PATH, PCBA_CID_FILE_NAME)\n",
    "CID_INCHI_FILE_PATH = os.path.join(RAW_DATA_PATH, CID_INCHI_FILE_NAME)\n",
    "\n",
    "# Download and unpack data \n",
    "if not os.path.exists(PCBA_CID_FILE_PATH):\n",
    "    os.system('wget -r -nd -nc %s -P %s' % (PCBA_CID_FTP_ADDRESS, RAW_DATA_PATH))\n",
    "    os.system('find %s -type f -iname \\\"*.gz\\\" -exec gunzip {} +' % RAW_DATA_PATH)\n",
    "\n",
    "if not os.path.exists(CID_INCHI_FILE_PATH):\n",
    "    os.system('wget -r -nd -nc %s -P %s'  % (CID_INCHI_FTP_ADDRESS, RAW_DATA_PATH))\n",
    "    os.system('find %s -type f -iname \\\"*.gz\\\" -exec gunzip {} +' % RAW_DATA_PATH)\n"
   ]
  },
  {
   "cell_type": "code",
   "execution_count": 20,
   "metadata": {
    "collapsed": false
   },
   "outputs": [],
   "source": [
    "import json\n",
    "import pandas as pd\n",
    "from rdkit import Chem\n",
    "try:\n",
    "    import cPickle as pickle\n",
    "except ModuleNotFoundError:\n",
    "    import pickle\n",
    "\n",
    "CHUNK_SIZE = 2 **18\n",
    "CID_MOL_FILE_NAME = 'CID-Mol_%03i.pkl'\n",
    "CID_MOL_FILE_PATH = os.path.join(PROCESSED_DATA_PATH, CID_MOL_FILE_NAME)\n",
    "CID_CHUNK_FILE_NAME = 'CID-chunk_num.txt'\n",
    "CID_CHUNK_FILE_PATH = os.path.join(PROCESSED_DATA_PATH, CID_CHUNK_FILE_NAME)\n",
    "UNUSED_CID_FILE_NAME = 'unused_CID.txt'\n",
    "UNUSED_CID_FILE_PATH = os.path.join(PROCESSED_DATA_PATH, UNUSED_CID_FILE_NAME)\n",
    "\n",
    "# cid_mol = [] \n",
    "unused_cid = []\n",
    "cid_chunk_num_dict = {}\n",
    "for chunk_idx, cid_inchi_df_chunk in enumerate(\n",
    "        pd.read_csv(CID_INCHI_FILE_PATH,\n",
    "                    sep='\\t',\n",
    "                    header=None,\n",
    "                    index_col=[0],\n",
    "                    usecols=[0, 1],\n",
    "                    chunksize=CHUNK_SIZE)):\n",
    "    \n",
    "    cid_mol_chunk = [] \n",
    "    for cid, row in cid_inchi_df_chunk.iterrows():\n",
    "        \n",
    "        inchi = row[1]\n",
    "        try:\n",
    "            mol = Chem.MolFromInchi(inchi)\n",
    "            assert mol\n",
    "        except AssertionError:\n",
    "            # print('Failed converting compoud (CID=%i) to molecule.' % cid)\n",
    "            unused_cid.append(cid)\n",
    "            continue\n",
    "        \n",
    "        cid_chunk_num_dict[cid] = chunk_idx\n",
    "        cid_mol_chunk.append(row)\n",
    "\n",
    "    with open(CID_MOL_FILE_PATH % chunk_idx, 'w+b') as f:\n",
    "        pickle.dump(cid_mol_chunk, f, pickle.HIGHEST_PROTOCOL)\n",
    "\n",
    "with open(CID_CHUNK_FILE_PATH, 'w') as f:\n",
    "    json.dump(cid_chunk_num_dict, f, indent=4)\n",
    "with open(UNUSED_CID_FILE_PATH, 'w') as f:\n",
    "    json.dump(unused_cid, f, indent=4)\n"
   ]
  },
  {
   "cell_type": "code",
   "execution_count": 7,
   "metadata": {},
   "outputs": [],
   "source": [
    "\n"
   ]
  },
  {
   "cell_type": "code",
   "execution_count": null,
   "metadata": {},
   "outputs": [],
   "source": []
  }
 ],
 "metadata": {
  "kernelspec": {
   "display_name": "Python 2",
   "language": "python",
   "name": "python2"
  },
  "language_info": {
   "codemirror_mode": {
    "name": "ipython",
    "version": 2
   },
   "file_extension": ".py",
   "mimetype": "text/x-python",
   "name": "python",
   "nbconvert_exporter": "python",
   "pygments_lexer": "ipython2",
   "version": "2.7.6"
  }
 },
 "nbformat": 4,
 "nbformat_minor": 0
}

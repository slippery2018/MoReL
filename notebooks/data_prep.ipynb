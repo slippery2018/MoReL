{
 "cells": [
  {
   "cell_type": "code",
   "execution_count": 3,
   "metadata": {
    "collapsed": true
   },
   "outputs": [],
   "source": [
    "# Download and unpack data\n",
    "import utils.data_prep.config as c\n",
    "from utils.data_prep.download import download\n",
    "\n",
    "\n",
    "download()\n",
    "\n",
    "# Get all the CIDs in PCBA\n",
    "pcba_cid_set = set(pd.read_csv(\n",
    "    c.PCBA_CID_FILE_PATH,\n",
    "    sep='\\t',\n",
    "    header=0,\n",
    "    index_col=None,\n",
    "    usecols=[0]).values.reshape(-1))\n"
   ]
  },
  {
   "cell_type": "code",
   "execution_count": 4,
   "metadata": {},
   "outputs": [
    {
     "ename": "KeyboardInterrupt",
     "evalue": "",
     "traceback": [
      "\u001b[0;31m---------------------------------------------------------------------------\u001b[0m",
      "\u001b[0;31mKeyboardInterrupt\u001b[0m                         Traceback (most recent call last)",
      "\u001b[0;32m<ipython-input-4-08c9cd0f19f6>\u001b[0m in \u001b[0;36m<module>\u001b[0;34m\u001b[0m\n\u001b[1;32m     20\u001b[0m \u001b[0;34m\u001b[0m\u001b[0m\n\u001b[1;32m     21\u001b[0m         \u001b[0;31m# Convert to Mol and get SMILES\u001b[0m\u001b[0;34m\u001b[0m\u001b[0;34m\u001b[0m\u001b[0;34m\u001b[0m\u001b[0m\n\u001b[0;32m---> 22\u001b[0;31m         \u001b[0mmol\u001b[0m\u001b[0;34m:\u001b[0m \u001b[0mChem\u001b[0m\u001b[0;34m.\u001b[0m\u001b[0mrdchem\u001b[0m\u001b[0;34m.\u001b[0m\u001b[0mMol\u001b[0m \u001b[0;34m=\u001b[0m \u001b[0mChem\u001b[0m\u001b[0;34m.\u001b[0m\u001b[0mMolFromInchi\u001b[0m\u001b[0;34m(\u001b[0m\u001b[0mrow\u001b[0m\u001b[0;34m[\u001b[0m\u001b[0;36m1\u001b[0m\u001b[0;34m]\u001b[0m\u001b[0;34m)\u001b[0m\u001b[0;34m\u001b[0m\u001b[0;34m\u001b[0m\u001b[0m\n\u001b[0m\u001b[1;32m     23\u001b[0m         \u001b[0;32mif\u001b[0m \u001b[0mmol\u001b[0m \u001b[0;32mis\u001b[0m \u001b[0;32mNone\u001b[0m\u001b[0;34m:\u001b[0m\u001b[0;34m\u001b[0m\u001b[0;34m\u001b[0m\u001b[0m\n\u001b[1;32m     24\u001b[0m             \u001b[0munused_cid_list\u001b[0m\u001b[0;34m.\u001b[0m\u001b[0mappend\u001b[0m\u001b[0;34m(\u001b[0m\u001b[0mcid\u001b[0m\u001b[0;34m)\u001b[0m\u001b[0;34m\u001b[0m\u001b[0;34m\u001b[0m\u001b[0m\n",
      "\u001b[0;32m~/anaconda3/envs/pytorch/lib/python3.6/site-packages/rdkit/Chem/inchi.py\u001b[0m in \u001b[0;36mMolFromInchi\u001b[0;34m(inchi, sanitize, removeHs, logLevel, treatWarningAsError)\u001b[0m\n\u001b[1;32m     70\u001b[0m     \"\"\"\n\u001b[1;32m     71\u001b[0m   \u001b[0;32mtry\u001b[0m\u001b[0;34m:\u001b[0m\u001b[0;34m\u001b[0m\u001b[0;34m\u001b[0m\u001b[0m\n\u001b[0;32m---> 72\u001b[0;31m     \u001b[0mmol\u001b[0m\u001b[0;34m,\u001b[0m \u001b[0mretcode\u001b[0m\u001b[0;34m,\u001b[0m \u001b[0mmessage\u001b[0m\u001b[0;34m,\u001b[0m \u001b[0mlog\u001b[0m \u001b[0;34m=\u001b[0m \u001b[0mrdinchi\u001b[0m\u001b[0;34m.\u001b[0m\u001b[0mInchiToMol\u001b[0m\u001b[0;34m(\u001b[0m\u001b[0minchi\u001b[0m\u001b[0;34m,\u001b[0m \u001b[0msanitize\u001b[0m\u001b[0;34m,\u001b[0m \u001b[0mremoveHs\u001b[0m\u001b[0;34m)\u001b[0m\u001b[0;34m\u001b[0m\u001b[0;34m\u001b[0m\u001b[0m\n\u001b[0m\u001b[1;32m     73\u001b[0m   \u001b[0;32mexcept\u001b[0m \u001b[0mValueError\u001b[0m \u001b[0;32mas\u001b[0m \u001b[0me\u001b[0m\u001b[0;34m:\u001b[0m\u001b[0;34m\u001b[0m\u001b[0;34m\u001b[0m\u001b[0m\n\u001b[1;32m     74\u001b[0m     \u001b[0mlogger\u001b[0m\u001b[0;34m.\u001b[0m\u001b[0merror\u001b[0m\u001b[0;34m(\u001b[0m\u001b[0mstr\u001b[0m\u001b[0;34m(\u001b[0m\u001b[0me\u001b[0m\u001b[0;34m)\u001b[0m\u001b[0;34m)\u001b[0m\u001b[0;34m\u001b[0m\u001b[0;34m\u001b[0m\u001b[0m\n",
      "\u001b[0;31mKeyboardInterrupt\u001b[0m: "
     ],
     "output_type": "error"
    }
   ],
   "source": [
    "# Structures for overall data storage\n",
    "import pandas as pd\n",
    "from rdkit import Chem\n",
    "from utils.data_prep.smiles_prep import mol_to_smiles\n",
    "\n",
    "unused_cid_list = []\n",
    "atom_dict = {}\n",
    "\n",
    "# Iterate through all the CIDs and get Mol\n",
    "for chunk_idx, chunk_cid_inchi_df in enumerate(\n",
    "        pd.read_csv(c.CID_INCHI_FILE_PATH,\n",
    "                    sep='\\t',\n",
    "                    header=None,\n",
    "                    index_col=[0],\n",
    "                    usecols=[0, 1],\n",
    "                    chunksize=2 ** 12)):\n",
    "    \n",
    "    for cid, row in chunk_cid_inchi_df.iterrows():\n",
    "        \n",
    "        # Skip this compound if it is not in PCBA and the dataset is PCBA\n",
    "        if cid not in pcba_cid_set and c.PCBA_ONLY:\n",
    "            continue\n",
    "        \n",
    "        # Convert to Mol and get SMILES\n",
    "        mol: Chem.rdchem.Mol = Chem.MolFromInchi(row[1])\n",
    "        if mol is None:\n",
    "            unused_cid_list.append(cid)\n",
    "            continue\n",
    "        smiles: str = mol_to_smiles(mol)\n",
    "        \n",
    "        # Skip the molecules with too many atoms or lengthy SMILES\n",
    "        if mol.GetNumAtoms() > c.MAX_NUM_ATOMS or \\\n",
    "                len(smiles) > c.MAX_LEN_SMILES:\n",
    "            unused_cid_list.append(cid)\n",
    "            continue\n",
    "        \n",
    "        # Count the atoms in this molecule\n",
    "        # Same atoms in a molecule only count once\n",
    "        atom_set = set([a.GetSymbol() for a in mol.GetAtoms()])\n",
    "        for a in atom_set:\n",
    "            atom_dict[a] = (atom_dict[a] + 1) if a in atom_dict else 1\n",
    "        \n",
    "        cid_mol_list.append((cid, mol))\n"
   ]
  },
  {
   "cell_type": "code",
   "execution_count": null,
   "metadata": {},
   "outputs": [],
   "source": [
    "# Saving metadata into files\n",
    "import h5py\n",
    "import json\n",
    "\n",
    "SAME_DATASET = True\n",
    "with h5py.File(c.CID_MOL_HDF5_PATH, 'w') as f:\n",
    "    \n",
    "    # Different approaches: Same dataset or different ones?\n",
    "    if SAME_DATASET:\n",
    "        # Same dataset \n",
    "        f.create_dataset(name='CID-Mol',\n",
    "                         data=cid_mol_list)\n",
    "    else:\n",
    "        # Different datasets in the same group\n",
    "        g = f.create_group(name='CID-Mol')\n",
    "        for cid, mol in cid_mol_list:\n",
    "            g.create_dataset(name=cid, data=mol)\n",
    "        \n",
    "# Convert atom count into frequency for further usage\n",
    "for a in atom_dict:\n",
    "    atom_dict[a] = atom_dict[a] / len(cid_mol_list)\n",
    "with open(c.ATOM_DICT_TXT_PATH, 'w') as f:\n",
    "    json.dump(atom_dict, f, indent=4)\n",
    "\n",
    "# Dump unused CIDs for further usage\n",
    "with open(c.UNUSED_CID_TXT_PATH, 'w') as f:\n",
    "    json.dump(unused_cid_list, f, indent=4)\n"
   ]
  },
  {
   "cell_type": "code",
   "execution_count": null,
   "metadata": {},
   "outputs": [],
   "source": []
  }
 ],
 "metadata": {
  "kernelspec": {
   "display_name": "Python 2",
   "language": "python",
   "name": "python2"
  },
  "language_info": {
   "codemirror_mode": {
    "name": "ipython",
    "version": 2
   },
   "file_extension": ".py",
   "mimetype": "text/x-python",
   "name": "python",
   "nbconvert_exporter": "python",
   "pygments_lexer": "ipython2",
   "version": "2.7.6"
  }
 },
 "nbformat": 4,
 "nbformat_minor": 0
}

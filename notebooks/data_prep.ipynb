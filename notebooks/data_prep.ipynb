{
  "cells": [
    {
      "cell_type": "code",
      "execution_count": 5,
      "metadata": {
        "collapsed": true,
        "pycharm": {
          "is_executing": false
        }
      },
      "outputs": [],
      "source": "import os\nimport sys\nimport h5py\nimport numpy as np\nimport pandas as pd\nfrom rdkit import Chem\nfrom joblib import Parallel, delayed\n\nmodule_path \u003d os.path.abspath(os.path.join(\u0027..\u0027))\nif module_path not in sys.path:\n    sys.path.append(module_path)\n\n# Local modules\nimport utils.data_prep.config as c\nfrom utils.data_prep.download import download\n\ndownload()\n"
    },
    {
      "cell_type": "code",
      "execution_count": 12,
      "outputs": [],
      "source": "# Prepare the CID-InChI hdf5\ndef inchi_prep(pcba_only: bool):\n    \n    # Check if the CID-InChI HDF5 file already exist ##########################\n    cid_inchi_hdf5_path \u003d c.PCBA_CID_INCHI_HDF5_PATH \\\n        if pcba_only else c.PC_CID_INCHI_HDF5_PATH\n    \n    if os.path.exists(cid_inchi_hdf5_path):\n        msg \u003d \u0027CID-InChI HDF5 already exits. \u0027 \\\n              \u0027Press [Y] for overwrite, any other key to continue ... \u0027\n        if str(input(msg)).lower().strip() !\u003d \u0027y\u0027:\n            return\n        os.remove(cid_inchi_hdf5_path)\n    \n    cid_inchi_hdf5 \u003d h5py.File(cid_inchi_hdf5_path, \u0027w\u0027, libver\u003d\u0027latest\u0027)\n    \n    # Prepare the PCBA CID set if necessary ###################################\n    pcba_cid_set \u003d set(pd.read_csv(\n        c.PCBA_CID_FILE_PATH,\n        sep\u003d\u0027\\t\u0027,\n        header\u003d0,\n        index_col\u003dNone,\n        usecols\u003d[0]).values.reshape(-1)) if pcba_only else set([])\n    \n    # Looping over all the CIDs ###############################################\n    def __check_inchi(cid, inchi):\n        mol \u003d Chem.MolFromInchi(inchi)\n        if mol is not None:\n            return cid, inchi\n        else:\n            return cid, None\n    \n    for chunk_cid_inchi_df in pd.read_csv(c.CID_INCHI_FILE_PATH,\n                                          sep\u003d\u0027\\t\u0027,\n                                          header\u003dNone,\n                                          index_col\u003d[0],\n                                          usecols\u003d[0, 1],\n                                          chunksize\u003d2 ** 15):\n    \n        chunk_cid_inchi_list \u003d Parallel(n_jobs\u003dc.NUM_CORES)(\n            delayed(__check_inchi)(cid, row[1])\n            for cid, row in chunk_cid_inchi_df.iterrows()\n            if ((not pcba_only) or (cid in pcba_cid_set)))\n    \n        for cid, row in chunk_cid_inchi_list:\n            if row is not None:\n                cid_inchi_hdf5.create_dataset(name\u003dstr(cid), data\u003drow[1])\n                \ninchi_prep(pcba_only\u003dTrue)\n",
      "metadata": {
        "pycharm": {
          "metadata": false,
          "name": "#%%\n",
          "is_executing": false
        }
      }
    },
    {
      "cell_type": "code",
      "execution_count": 6,
      "outputs": [
        {
          "traceback": [
            "\u001b[0;31m---------------------------------------------------------------------------\u001b[0m",
            "\u001b[0;31mTypeError\u001b[0m                                 Traceback (most recent call last)",
            "\u001b[0;32m\u003cipython-input-6-b53fc3efa447\u003e\u001b[0m in \u001b[0;36m\u003cmodule\u003e\u001b[0;34m\u001b[0m\n\u001b[1;32m     43\u001b[0m                                 data\u003dlist(chunk_pcba_cid_d7_dscrptr_df))\n\u001b[1;32m     44\u001b[0m \u001b[0;34m\u001b[0m\u001b[0m\n\u001b[0;32m---\u003e 45\u001b[0;31m \u001b[0md7_dscrptr_prep\u001b[0m\u001b[0;34m(\u001b[0m\u001b[0mtarget_only\u001b[0m\u001b[0;34m\u003d\u001b[0m\u001b[0;32mTrue\u001b[0m\u001b[0;34m)\u001b[0m\u001b[0;34m\u001b[0m\u001b[0;34m\u001b[0m\u001b[0m\n\u001b[0m",
            "\u001b[0;32m\u003cipython-input-6-b53fc3efa447\u003e\u001b[0m in \u001b[0;36md7_dscrptr_prep\u001b[0;34m(target_only)\u001b[0m\n\u001b[1;32m     41\u001b[0m             \u001b[0mdscrptr_names_flag\u001b[0m \u001b[0;34m\u003d\u001b[0m \u001b[0;32mFalse\u001b[0m\u001b[0;34m\u001b[0m\u001b[0;34m\u001b[0m\u001b[0m\n\u001b[1;32m     42\u001b[0m             hdf5.create_dataset(name\u003d\u0027DSCRPTR_NAMES\u0027, \n\u001b[0;32m---\u003e 43\u001b[0;31m                                 data\u003dlist(chunk_pcba_cid_d7_dscrptr_df))\n\u001b[0m\u001b[1;32m     44\u001b[0m \u001b[0;34m\u001b[0m\u001b[0m\n\u001b[1;32m     45\u001b[0m \u001b[0md7_dscrptr_prep\u001b[0m\u001b[0;34m(\u001b[0m\u001b[0mtarget_only\u001b[0m\u001b[0;34m\u003d\u001b[0m\u001b[0;32mTrue\u001b[0m\u001b[0;34m)\u001b[0m\u001b[0;34m\u001b[0m\u001b[0;34m\u001b[0m\u001b[0m\n",
            "\u001b[0;32m~/anaconda3/envs/pytorch/lib/python3.7/site-packages/h5py/_hl/group.py\u001b[0m in \u001b[0;36mcreate_dataset\u001b[0;34m(self, name, shape, dtype, data, **kwds)\u001b[0m\n\u001b[1;32m    134\u001b[0m \u001b[0;34m\u001b[0m\u001b[0m\n\u001b[1;32m    135\u001b[0m         \u001b[0;32mwith\u001b[0m \u001b[0mphil\u001b[0m\u001b[0;34m:\u001b[0m\u001b[0;34m\u001b[0m\u001b[0;34m\u001b[0m\u001b[0m\n\u001b[0;32m--\u003e 136\u001b[0;31m             \u001b[0mdsid\u001b[0m \u001b[0;34m\u003d\u001b[0m \u001b[0mdataset\u001b[0m\u001b[0;34m.\u001b[0m\u001b[0mmake_new_dset\u001b[0m\u001b[0;34m(\u001b[0m\u001b[0mself\u001b[0m\u001b[0;34m,\u001b[0m \u001b[0mshape\u001b[0m\u001b[0;34m,\u001b[0m \u001b[0mdtype\u001b[0m\u001b[0;34m,\u001b[0m \u001b[0mdata\u001b[0m\u001b[0;34m,\u001b[0m \u001b[0;34m**\u001b[0m\u001b[0mkwds\u001b[0m\u001b[0;34m)\u001b[0m\u001b[0;34m\u001b[0m\u001b[0;34m\u001b[0m\u001b[0m\n\u001b[0m\u001b[1;32m    137\u001b[0m             \u001b[0mdset\u001b[0m \u001b[0;34m\u003d\u001b[0m \u001b[0mdataset\u001b[0m\u001b[0;34m.\u001b[0m\u001b[0mDataset\u001b[0m\u001b[0;34m(\u001b[0m\u001b[0mdsid\u001b[0m\u001b[0;34m)\u001b[0m\u001b[0;34m\u001b[0m\u001b[0;34m\u001b[0m\u001b[0m\n\u001b[1;32m    138\u001b[0m             \u001b[0;32mif\u001b[0m \u001b[0mname\u001b[0m \u001b[0;32mis\u001b[0m \u001b[0;32mnot\u001b[0m \u001b[0;32mNone\u001b[0m\u001b[0;34m:\u001b[0m\u001b[0;34m\u001b[0m\u001b[0;34m\u001b[0m\u001b[0m\n",
            "\u001b[0;32m~/anaconda3/envs/pytorch/lib/python3.7/site-packages/h5py/_hl/dataset.py\u001b[0m in \u001b[0;36mmake_new_dset\u001b[0;34m(parent, shape, dtype, data, chunks, compression, shuffle, fletcher32, maxshape, compression_opts, fillvalue, scaleoffset, track_times, external, track_order, dcpl)\u001b[0m\n\u001b[1;32m    116\u001b[0m         \u001b[0;32melse\u001b[0m\u001b[0;34m:\u001b[0m\u001b[0;34m\u001b[0m\u001b[0;34m\u001b[0m\u001b[0m\n\u001b[1;32m    117\u001b[0m             \u001b[0mdtype\u001b[0m \u001b[0;34m\u003d\u001b[0m \u001b[0mnumpy\u001b[0m\u001b[0;34m.\u001b[0m\u001b[0mdtype\u001b[0m\u001b[0;34m(\u001b[0m\u001b[0mdtype\u001b[0m\u001b[0;34m)\u001b[0m\u001b[0;34m\u001b[0m\u001b[0;34m\u001b[0m\u001b[0m\n\u001b[0;32m--\u003e 118\u001b[0;31m         \u001b[0mtid\u001b[0m \u001b[0;34m\u003d\u001b[0m \u001b[0mh5t\u001b[0m\u001b[0;34m.\u001b[0m\u001b[0mpy_create\u001b[0m\u001b[0;34m(\u001b[0m\u001b[0mdtype\u001b[0m\u001b[0;34m,\u001b[0m \u001b[0mlogical\u001b[0m\u001b[0;34m\u003d\u001b[0m\u001b[0;36m1\u001b[0m\u001b[0;34m)\u001b[0m\u001b[0;34m\u001b[0m\u001b[0;34m\u001b[0m\u001b[0m\n\u001b[0m\u001b[1;32m    119\u001b[0m \u001b[0;34m\u001b[0m\u001b[0m\n\u001b[1;32m    120\u001b[0m     \u001b[0;31m# Legacy\u001b[0m\u001b[0;34m\u001b[0m\u001b[0;34m\u001b[0m\u001b[0;34m\u001b[0m\u001b[0m\n",
            "\u001b[0;32mh5py/h5t.pyx\u001b[0m in \u001b[0;36mh5py.h5t.py_create\u001b[0;34m()\u001b[0m\n",
            "\u001b[0;32mh5py/h5t.pyx\u001b[0m in \u001b[0;36mh5py.h5t.py_create\u001b[0;34m()\u001b[0m\n",
            "\u001b[0;32mh5py/h5t.pyx\u001b[0m in \u001b[0;36mh5py.h5t.py_create\u001b[0;34m()\u001b[0m\n",
            "\u001b[0;31mTypeError\u001b[0m: No conversion path for dtype: dtype(\u0027\u003cU12\u0027)"
          ],
          "ename": "TypeError",
          "evalue": "No conversion path for dtype: dtype(\u0027\u003cU12\u0027)",
          "output_type": "error"
        }
      ],
      "source": "# Prepare for the CUD-Dragon7_descriptor hdf5\ndef d7_dscrptr_prep(target_only: bool):\n    \n    hdf5_path \u003d c.PCBA_CID_TARGET_D7DSCPTR_HDF5_PATH if target_only \\\n        else c.PCBA_CID_D7DSCPTR_HDF5_PATH\n    \n    # Check if the descriptor file exists\n    if os.path.exists(hdf5_path):\n        msg \u003d \u0027PCBA_CID-D7_Descriptor HDF5 already exits. \u0027 \\\n              \u0027Press [Y] for overwrite, any other key to continue ... \u0027\n        if str(input(msg)).lower().strip() !\u003d \u0027y\u0027:\n            return\n        os.remove(hdf5_path)\n    \n    hdf5 \u003d h5py.File(hdf5_path, \u0027w\u0027, libver\u003d\u0027latest\u0027)\n\n    # Load dragon7 descriptor targets #########################################\n    read_csv_kwargs \u003d {\n        \u0027sep\u0027:          \u0027\\t\u0027,\n        \u0027header\u0027:       0,\n        \u0027index_col\u0027:    0,\n        \u0027na_values\u0027:    \u0027na\u0027,\n        \u0027dtype\u0027:        str,\n        \u0027chunksize\u0027:    2 ** 15\n    }\n    if target_only:\n        read_csv_kwargs[\u0027usecols\u0027] \u003d [\u0027NAME\u0027, ] + c.TARGET_D7_DSCRPTR_NAMES\n    \n    dscrptr_names_flag \u003d True\n    for chunk_pcba_cid_d7_dscrptr_df in \\\n        pd.read_csv(c.PCBA_CID_D7_DSCPTR_FILE_PATH, **read_csv_kwargs):\n        \n        # Original dataset contains some NaN values\n        chunk_pcba_cid_d7_dscrptr_df.dropna(inplace\u003dTrue)\n        \n        for cid, row in chunk_pcba_cid_d7_dscrptr_df.iterrows():\n            hdf5.create_dataset(name\u003dstr(cid), \n                                data\u003dnp.array(row.values, dtype\u003dnp.float16))\n        \n        if dscrptr_names_flag:\n            dscrptr_names_flag \u003d False\n            hdf5.create_dataset(name\u003d\u0027DSCRPTR_NAMES\u0027, \n                                data\u003dlist(chunk_pcba_cid_d7_dscrptr_df))\n\nd7_dscrptr_prep(target_only\u003dTrue)\n",
      "metadata": {
        "pycharm": {
          "metadata": false,
          "name": "#%%\n",
          "is_executing": false
        }
      }
    }
  ],
  "metadata": {
    "language_info": {
      "codemirror_mode": {
        "name": "ipython",
        "version": 2
      },
      "file_extension": ".py",
      "mimetype": "text/x-python",
      "name": "python",
      "nbconvert_exporter": "python",
      "pygments_lexer": "ipython2",
      "version": "2.7.6"
    },
    "kernelspec": {
      "name": "python3",
      "language": "python",
      "display_name": "Python 3"
    }
  },
  "nbformat": 4,
  "nbformat_minor": 0
}